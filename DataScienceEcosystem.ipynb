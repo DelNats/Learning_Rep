{
 "cells": [
  {
   "cell_type": "markdown",
   "metadata": {},
   "source": [
    "<center>\n",
    "    <img src=\"https://cf-courses-data.s3.us.cloud-object-storage.appdomain.cloud/IBMDeveloperSkillsNetwork-DS0105EN-SkillsNetwork/labs/Module2/images/SN_web_lightmode.png\" width=\"300\" alt=\"cognitiveclass.ai logo\">\n",
    "</center>\n"
   ]
  },
  {
   "cell_type": "markdown",
   "metadata": {},
   "source": [
    "#### Add your code below following the instructions given in the course\n"
   ]
  },
  {
   "cell_type": "code",
   "execution_count": null,
   "metadata": {},
   "outputs": [],
   "source": [
    "# Exercise 2: Create markdown cell with title of the notebook \n",
    "# Create a markdown cell with the title Data Science Tools and Ecosystem using H1 style heading.\n",
    "# Take a screenshot of the markdown cell and name it as 2-title.png \n",
    "# (Images can be saved with either the .jpg or .png extension.)"
   ]
  },
  {
   "cell_type": "markdown",
   "metadata": {},
   "source": [
    "# Data Science Tools and Ecosystem"
   ]
  },
  {
   "cell_type": "code",
   "execution_count": null,
   "metadata": {},
   "outputs": [],
   "source": [
    "# Exercise 3 - Create a markdown cell for an introduction \n",
    "# Write an introductory sentence about the notebook such as the follows: \n",
    "# In this notebook, Data Science Tools and Ecosystem are summarized.\n",
    "# Take a screenshot of the markdown cell and name it as 3-intro.png \n",
    "# (Images can be saved with either the .jpg or .png extension.)"
   ]
  },
  {
   "cell_type": "markdown",
   "metadata": {},
   "source": [
    "### This notebook gives an introduction to Data Science Tools and Ecosystem"
   ]
  },
  {
   "cell_type": "code",
   "execution_count": null,
   "metadata": {},
   "outputs": [],
   "source": [
    "# Exercise 10 - Insert a markdown cell to list Objectives\n",
    "# Below the introduction cell created in Exercise 3, insert a new markdown cell \n",
    "# to list the objectives that this notebook covered (i.e. some of the key takeaways from the course). \n",
    "# In this new cell start with an introductory line titled: Objectives: in bold font. \n",
    "# Then using an unordered list (bullets) indicate 3 to 5 items covered in this notebook, \n",
    "# such as List popular languages for Data Science.\n",
    "# Take a screenshot of the markdown cell and name it as 10-objectives.png \n",
    "# (Images can be saved with either the .jpg or .png extension.)"
   ]
  },
  {
   "cell_type": "markdown",
   "metadata": {},
   "source": [
    "**Objectives:**\n",
    "* List the most ppular programming languages\n",
    "* List the most pooular libraries\n",
    "* List the most popular developping environments\n",
    "* Show a sample arithmetic expression"
   ]
  },
  {
   "cell_type": "code",
   "execution_count": null,
   "metadata": {},
   "outputs": [],
   "source": [
    "# Exercise 4 - Create a markdown cell to list data science languages\n",
    "# Start the cell with an overview line such as: \n",
    "# Some of the popular languages that Data Scientists use are:\n",
    "# Then create an ordered list (i.e. numbered) listing 3 (or more) commonly used languages for data science.\n",
    "# Take a screenshot of the markdown cell and name it as 4-dslanguages.png \n",
    "#(Images can be saved with either the .jpg or .png extension.)"
   ]
  },
  {
   "cell_type": "markdown",
   "metadata": {},
   "source": [
    "#### Data Scientists can use different programming languages, among which the most popular are:\n",
    "1. Python\n",
    "2. R\n",
    "3. Scala\n",
    "4. Julia"
   ]
  },
  {
   "cell_type": "code",
   "execution_count": null,
   "metadata": {},
   "outputs": [],
   "source": [
    "# Exercise 5 - Create a markdown cell to list data science libraries\n",
    "# Add an overview line to the cell like:\n",
    "# Some of the commonly used libraries used by Data Scientists include:\n",
    "# Below this line add an ordered list listing 3 (or more) commonly used libraries in data science.\n",
    "# Take a screenshot of the markdown cell and name it as 5-dslibraries.png \n",
    "# (Images can be saved with either the .jpg or .png extension.)"
   ]
  },
  {
   "cell_type": "markdown",
   "metadata": {},
   "source": [
    "#### Data Scientists use many different libraries, among which the most popular are:\n",
    "1. matplotlib for graphs (Python), \n",
    "2. scikit-learn for machine learning (Python)\n",
    "3. NumPy for mathematical functions (Python)\n",
    "4. ggplot2 for graphs (R)"
   ]
  },
  {
   "cell_type": "code",
   "execution_count": null,
   "metadata": {},
   "outputs": [],
   "source": [
    "# Exercise 6 - Create a markdown cell with a table of Data Science tools\n",
    "# Create a single column table in this cell with the first row containing the header Data Science Tools. \n",
    "# The subsequent three rows in the table should indicate three development environment open source tools \n",
    "# used in data science.\n",
    "# Take a screenshot of the markdown cell and name it as 6-dstools.png \n",
    "# (Images can be saved with either the .jpg or .png extension.)"
   ]
  },
  {
   "cell_type": "markdown",
   "metadata": {},
   "source": [
    "|Data Science Tools|\n",
    "|------------------|\n",
    "|Jupyter Notebook|\n",
    "|R Studio|\n",
    "|Spyder|"
   ]
  },
  {
   "cell_type": "code",
   "execution_count": 3,
   "metadata": {},
   "outputs": [],
   "source": [
    "# Exercise 7 - Create a markdown cell introducing arithmetic expression examples\n",
    "# Add a line in this cell with H3 style heading with text like:\n",
    "# Below are a few examples of evaluating arithmetic expressions in Python.\n",
    "# Take a screenshot of the markdown cell and name it as 7-introarithmetic.png \n",
    "# (Images can be saved with either the .jpg or .png extension.)"
   ]
  },
  {
   "cell_type": "markdown",
   "metadata": {},
   "source": [
    "### Below are a few examples of evaluating arithmetic expressions in Python."
   ]
  },
  {
   "cell_type": "code",
   "execution_count": 4,
   "metadata": {},
   "outputs": [],
   "source": [
    "# Exercise 8 - Create a code cell to multiply and add numbers\n",
    "# In this code cell evaluate the expression (3*4)+5.\n",
    "# Insert a comment line before the expression to explain the operation e.g. \n",
    "# This a simple arithmetic expression to mutiply then add integers.\n",
    "# Then execute the cell to ensure the expression returns the expected output of 17.\n",
    "# Take a screenshot of the code cell with output and name it as 8-multiplyandaddintegers.png \n",
    "# (Images can be saved with either the .jpg or .png extension.)"
   ]
  },
  {
   "cell_type": "code",
   "execution_count": 5,
   "metadata": {},
   "outputs": [
    {
     "data": {
      "text/plain": [
       "17"
      ]
     },
     "execution_count": 5,
     "metadata": {},
     "output_type": "execute_result"
    }
   ],
   "source": [
    "# This a simple arithmetic expression to mutiply then add integers.\n",
    "\n",
    "(3*4)+5"
   ]
  },
  {
   "cell_type": "code",
   "execution_count": null,
   "metadata": {},
   "outputs": [],
   "source": [
    "# Exercise 9 - Create a code cell to convert minutes to hours\n",
    "# In this code cell write an expression that converts 200 minutes into hours.\n",
    "# Insert a comment line before the expression to explain the operation e.g. \n",
    "# This will convert 200 minutes to hours by diving by 60.\n",
    "# Run the cell to evaluate the expression.\n",
    "# Take a screenshot of the code cell with output and name it as 9-hourstominutes.png \n",
    "# (Images can be saved with either the .jpg or .png extension.)"
   ]
  },
  {
   "cell_type": "code",
   "execution_count": 12,
   "metadata": {},
   "outputs": [
    {
     "name": "stdout",
     "output_type": "stream",
     "text": [
      "Conversion of 200 mn into hours: 3.33\n"
     ]
    }
   ],
   "source": [
    "# This will convert 200 minutes to hours by diving by 60.\n",
    "\n",
    "x== 200 /60\n",
    "print(\"Conversion of 200 mn into hours: \" + str(round(x,2)) )"
   ]
  },
  {
   "cell_type": "code",
   "execution_count": 13,
   "metadata": {},
   "outputs": [],
   "source": [
    "# Exercise 11 - Create a markdown cell to indicate the Author's name\n",
    "# In this markdown cell markdown cell include the following text Author in H2 style heading. \n",
    "# Include your name as regular text below the word Author.\n",
    "# Take a screenshot of the markdown cell and name it as 11-authordetails.png \n",
    "# (Images can be saved with either the .jpg or .png extension.)\n",
    "# Note: Save and download the notebook."
   ]
  },
  {
   "cell_type": "markdown",
   "metadata": {},
   "source": [
    "## Author\n",
    "Delphine Desprez"
   ]
  }
 ],
 "metadata": {
  "kernelspec": {
   "display_name": "Python 3 (ipykernel)",
   "language": "python",
   "name": "python3"
  },
  "language_info": {
   "codemirror_mode": {
    "name": "ipython",
    "version": 3
   },
   "file_extension": ".py",
   "mimetype": "text/x-python",
   "name": "python",
   "nbconvert_exporter": "python",
   "pygments_lexer": "ipython3",
   "version": "3.11.4"
  }
 },
 "nbformat": 4,
 "nbformat_minor": 4
}
